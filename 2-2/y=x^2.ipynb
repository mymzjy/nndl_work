{
 "cells": [
  {
   "cell_type": "code",
   "execution_count": 1,
   "metadata": {
    "executionInfo": {
     "elapsed": 266,
     "status": "ok",
     "timestamp": 1710045588197,
     "user": {
      "displayName": "Ryan Ming",
      "userId": "15132354585412009292"
     },
     "user_tz": -480
    },
    "id": "UXdEluwCArdQ"
   },
   "outputs": [],
   "source": [
    "import numpy as np\n",
    "from sklearn.model_selection import train_test_split\n",
    "import matplotlib.pyplot as plt\n",
    "from tqdm import tqdm\n",
    "import math"
   ]
  },
  {
   "cell_type": "code",
   "execution_count": 3,
   "metadata": {
    "colab": {
     "base_uri": "https://localhost:8080/",
     "height": 448
    },
    "executionInfo": {
     "elapsed": 894,
     "status": "ok",
     "timestamp": 1710046461640,
     "user": {
      "displayName": "Ryan Ming",
      "userId": "15132354585412009292"
     },
     "user_tz": -480
    },
    "id": "rcwhpsW5A6eR",
    "outputId": "400f786c-560c-40f4-801c-8180ccafc0b0"
   },
   "outputs": [
    {
     "data": {
      "text/plain": [
       "<matplotlib.legend.Legend at 0x1e663ceabe0>"
      ]
     },
     "execution_count": 3,
     "metadata": {},
     "output_type": "execute_result"
    },
    {
     "data": {
      "image/png": "[encoded data removed]",
      "text/plain": [
       "<Figure size 640x480 with 1 Axes>"
      ]
     },
     "metadata": {},
     "output_type": "display_data"
    }
   ],
   "source": [
    "def targetFunc(x):\n",
    "    \"\"\"\n",
    "    Target Funtion for curve fitting\n",
    "    \"\"\"\n",
    "    return x * x\n",
    "\n",
    "x = np.arange(0, 10 * np.pi, 0.1)\n",
    "plt.plot(x, [targetFunc(i) for i in x])\n",
    "plt.legend([\"x^2\"])"
   ]
  },
  {
   "cell_type": "code",
   "execution_count": 5,
   "metadata": {
    "colab": {
     "base_uri": "https://localhost:8080/"
    },
    "executionInfo": {
     "elapsed": 14,
     "status": "ok",
     "timestamp": 1710045589212,
     "user": {
      "displayName": "Ryan Ming",
      "userId": "15132354585412009292"
     },
     "user_tz": -480
    },
    "id": "ECPKqpxPBCdY",
    "outputId": "99b79e3d-9580-4409-89f4-3c1f30f286c6"
   },
   "outputs": [
    {
     "name": "stdout",
     "output_type": "stream",
     "text": [
      "Training dataset:(10995,)\n",
      "Validation dataset:(1571,)\n",
      "Test dataset:(3142,)\n"
     ]
    }
   ],
   "source": [
    "x = np.arange(0, 5 * np.pi, 0.001)\n",
    "y = [targetFunc(i) for i in x]\n",
    "\n",
    "X_train, X_test, y_train, y_test = train_test_split(x, y, test_size=0.2, random_state=1)\n",
    "X_train, X_val, y_train, y_val = train_test_split(X_train, y_train, test_size=0.125, random_state=1)\n",
    "\n",
    "print(f\"Training dataset:{X_train.shape}\")\n",
    "print(f\"Validation dataset:{X_val.shape}\")\n",
    "print(f\"Test dataset:{X_test.shape}\")"
   ]
  },
  {
   "cell_type": "code",
   "execution_count": 7,
   "metadata": {
    "id": "D5DIflTRV_-R"
   },
   "outputs": [],
   "source": [
    "input_dim = 1\n",
    "hidden_dim = 16\n",
    "output_dim = 1\n",
    "\n",
    "W1 = np.random.randn(hidden_dim, input_dim) * np.sqrt(1 / input_dim)\n",
    "W2 = np.random.randn(output_dim, hidden_dim) * np.sqrt(1 / hidden_dim)\n",
    "b1 = np.zeros((hidden_dim, 1))\n",
    "b2 = np.zeros((output_dim, 1))"
   ]
  },
  {
   "cell_type": "code",
   "execution_count": 9,
   "metadata": {
    "executionInfo": {
     "elapsed": 9,
     "status": "ok",
     "timestamp": 1710045589212,
     "user": {
      "displayName": "Ryan Ming",
      "userId": "15132354585412009292"
     },
     "user_tz": -480
    },
    "id": "m-td_8b1BamQ"
   },
   "outputs": [],
   "source": [
    "cache = {}\n",
    "\n",
    "def Linear(W, X, b):\n",
    "    \"\"\"\n",
    "    Linear transformation\n",
    "    \"\"\"\n",
    "    return np.matmul(W, X) + b\n",
    "\n",
    "\n",
    "def relu(X):\n",
    "    \"\"\"\n",
    "    ReLU activation function\n",
    "    \"\"\"\n",
    "    return np.where(X > 0, X, 0)\n",
    "\n",
    "\n",
    "def forward(x):\n",
    "    \"\"\"\n",
    "    Forward Propagation\n",
    "    \"\"\"\n",
    "    cache['out0'] = x\n",
    "    x = Linear(W1, x, b1)\n",
    "    cache['out1'] = x\n",
    "    x = relu(x)\n",
    "    cache['out2'] = x\n",
    "    output = Linear(W2, x, b2)\n",
    "    cache['out3'] = output\n",
    "    return output\n",
    "\n",
    "\n",
    "def loss_fn(y_pred, target):\n",
    "    \"\"\"\n",
    "    MSE loss function\n",
    "    Args:\n",
    "        y_pred: predicted value\n",
    "        target: labels\n",
    "    \"\"\"\n",
    "    loss = np.sum((y_pred - target) * (y_pred - target), axis=1, keepdims=True) / len(y_pred)\n",
    "    cache['loss'] = (y_pred - target) / len(y_pred)\n",
    "    return loss\n",
    "\n",
    "\n",
    "def backward(lr, batch_size):\n",
    "    \"\"\"\n",
    "    Backward propagation\n",
    "    Args:\n",
    "        lr: learning rate\n",
    "        batch_size: batch size\n",
    "    \"\"\"\n",
    "    global W1, W2, b1, b2\n",
    "\n",
    "    delta2 = 1 / batch_size * cache['loss']\n",
    "    dW2 = 1 / batch_size * np.matmul(delta2, cache['out2'].T)\n",
    "    db2 = 1 / batch_size * np.sum(delta2, axis=1, keepdims=True)\n",
    "\n",
    "    delta1 = np.matmul(W2.T, delta2) * np.where(cache['out1'] > 0, 1, 0)\n",
    "    dW1 = 1 / batch_size * np.matmul(delta1, cache['out0'].T)\n",
    "    db1 = 1 / batch_size * np.sum(delta1, axis=1, keepdims=True)\n",
    "\n",
    "    # Update\n",
    "    W1 -= lr * dW1\n",
    "    W2 -= lr * dW2\n",
    "    b1 -= lr * db1\n",
    "    b2 -= lr * db2\n",
    "\n"
   ]
  },
  {
   "cell_type": "code",
   "execution_count": 11,
   "metadata": {
    "executionInfo": {
     "elapsed": 7,
     "status": "ok",
     "timestamp": 1710045589212,
     "user": {
      "displayName": "Ryan Ming",
      "userId": "15132354585412009292"
     },
     "user_tz": -480
    },
    "id": "ATjbNADcYXKB"
   },
   "outputs": [],
   "source": [
    "def predict(ranger):\n",
    "    \"\"\"\n",
    "    Evaluation function\n",
    "    Args:\n",
    "        ranger: List, 2 elements for start number and end number\n",
    "    \"\"\"\n",
    "    x_plot = []\n",
    "    y_pred = []\n",
    "    for i in range(ranger[0], ranger[1]):\n",
    "        x = Linear(W1, np.array([[i]]), b1)\n",
    "        x = relu(x)\n",
    "        output = Linear(W2, x, b2)\n",
    "        x_plot.append(i)\n",
    "        y_pred.extend(output)\n",
    "\n",
    "    plt.plot(x_plot, [targetFunc(i) for i in x_plot])\n",
    "    plt.plot(x_plot, y_pred)\n",
    "    plt.legend([\"Ground truth\", \"Prediction\"])"
   ]
  },
  {
   "cell_type": "code",
   "execution_count": 13,
   "metadata": {
    "executionInfo": {
     "elapsed": 6,
     "status": "ok",
     "timestamp": 1710045589213,
     "user": {
      "displayName": "Ryan Ming",
      "userId": "15132354585412009292"
     },
     "user_tz": -480
    },
    "id": "-LfRXXSVML2R"
   },
   "outputs": [],
   "source": [
    "def train(X, y, epochs=5, batch_size=10, lr=0.001, verbose_ep=100):\n",
    "    \"\"\"\n",
    "    Training funcition\n",
    "    Args:\n",
    "        X: input dataset\n",
    "        y: target label\n",
    "        batch_size: batch size\n",
    "        lr: learning rate\n",
    "        verbose_ep: display loss per verbose_ep epoch\n",
    "    \"\"\"\n",
    "    for epoch in tqdm(range(epochs)):\n",
    "        rec_loss = 0\n",
    "        for batch_idx in range(len(X) // batch_size):\n",
    "            X_batched = np.array([X[batch_idx * batch_size: min((batch_idx + 1) * batch_size, len(X))]])\n",
    "            y_batched = np.array([y[batch_idx * batch_size: min((batch_idx + 1) * batch_size, len(X))]])\n",
    "            y_pred = forward(X_batched)\n",
    "            loss = np.sum(loss_fn(y_pred,np.array(y_batched))) / len(y_pred)\n",
    "            rec_loss += loss\n",
    "            backward(lr, batch_size)\n",
    "        if epoch % verbose_ep == 0:\n",
    "            print(f\"Epoch:{epoch}, Loss:{rec_loss / (len(X) // batch_size)}\")"
   ]
  },
  {
   "cell_type": "code",
   "execution_count": 15,
   "metadata": {
    "colab": {
     "base_uri": "https://localhost:8080/"
    },
    "executionInfo": {
     "elapsed": 227372,
     "status": "ok",
     "timestamp": 1710045819328,
     "user": {
      "displayName": "Ryan Ming",
      "userId": "15132354585412009292"
     },
     "user_tz": -480
    },
    "id": "oUFfmrPkNwwR",
    "outputId": "9c753f40-1a4b-456a-a531-25d6f9910787"
   },
   "outputs": [
    {
     "name": "stderr",
     "output_type": "stream",
     "text": [
      "  0%|                                                                                 | 6/5000 [00:00<03:14, 25.68it/s]"
     ]
    },
    {
     "name": "stdout",
     "output_type": "stream",
     "text": [
      "Epoch:0, Loss:23651.46609683132\n"
     ]
    },
    {
     "name": "stderr",
     "output_type": "stream",
     "text": [
      " 20%|███████████████▋                                                              | 1004/5000 [00:32<03:40, 18.09it/s]"
     ]
    },
    {
     "name": "stdout",
     "output_type": "stream",
     "text": [
      "Epoch:1000, Loss:16.839329507822182\n"
     ]
    },
    {
     "name": "stderr",
     "output_type": "stream",
     "text": [
      " 40%|███████████████████████████████▎                                              | 2004/5000 [01:16<01:35, 31.34it/s]"
     ]
    },
    {
     "name": "stdout",
     "output_type": "stream",
     "text": [
      "Epoch:2000, Loss:14.582775949324338\n"
     ]
    },
    {
     "name": "stderr",
     "output_type": "stream",
     "text": [
      " 60%|██████████████████████████████████████████████▉                               | 3005/5000 [02:01<01:12, 27.35it/s]"
     ]
    },
    {
     "name": "stdout",
     "output_type": "stream",
     "text": [
      "Epoch:3000, Loss:13.906126692646612\n"
     ]
    },
    {
     "name": "stderr",
     "output_type": "stream",
     "text": [
      " 80%|██████████████████████████████████████████████████████████████▌               | 4007/5000 [02:38<00:30, 32.27it/s]"
     ]
    },
    {
     "name": "stdout",
     "output_type": "stream",
     "text": [
      "Epoch:4000, Loss:13.590133889744488\n"
     ]
    },
    {
     "name": "stderr",
     "output_type": "stream",
     "text": [
      "100%|██████████████████████████████████████████████████████████████████████████████| 5000/5000 [03:08<00:00, 26.53it/s]\n"
     ]
    }
   ],
   "source": [
    "train(X_train, y_train, epochs=5000, batch_size=32, lr=0.01, verbose_ep=1000)"
   ]
  },
  {
   "cell_type": "code",
   "execution_count": 16,
   "metadata": {
    "colab": {
     "base_uri": "https://localhost:8080/",
     "height": 430
    },
    "executionInfo": {
     "elapsed": 922,
     "status": "ok",
     "timestamp": 1710045820240,
     "user": {
      "displayName": "Ryan Ming",
      "userId": "15132354585412009292"
     },
     "user_tz": -480
    },
    "id": "-qijLTP9YAnJ",
    "outputId": "7c57e624-8b1c-45f6-bc6e-4b7474cf1c58"
   },
   "outputs": [
    {
     "data": {
      "image/png": "[encoded data removed]",
      "text/plain": [
       "<Figure size 640x480 with 1 Axes>"
      ]
     },
     "metadata": {},
     "output_type": "display_data"
    }
   ],
   "source": [
    "predict([0, 20])"
   ]
  },
  {
   "cell_type": "code",
   "execution_count": null,
   "metadata": {},
   "outputs": [],
   "source": []
  }
 ],
 "metadata": {
  "colab": {
   "authorship_tag": "ABX9TyOF0kNsoapfbgpdXJi5sIAi",
   "provenance": []
  },
  "kernelspec": {
   "display_name": "Python 3 (ipykernel)",
   "language": "python",
   "name": "python3"
  },
  "language_info": {
   "codemirror_mode": {
    "name": "ipython",
    "version": 3
   },
   "file_extension": ".py",
   "mimetype": "text/x-python",
   "name": "python",
   "nbconvert_exporter": "python",
   "pygments_lexer": "ipython3",
   "version": "3.8.20"
  }
 },
 "nbformat": 4,
 "nbformat_minor": 4
}
