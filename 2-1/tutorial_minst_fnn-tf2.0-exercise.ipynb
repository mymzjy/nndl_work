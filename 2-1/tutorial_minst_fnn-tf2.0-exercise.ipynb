{
 "cells": [
  {
   "cell_type": "markdown",
   "metadata": {},
   "source": [
    "## 准备数据"
   ]
  },
  {
   "cell_type": "code",
   "execution_count": 34,
   "metadata": {},
   "outputs": [],
   "source": [
    "import os\n",
    "import numpy as np\n",
    "import tensorflow as tf\n",
    "from tensorflow import keras\n",
    "from tensorflow.keras import layers, optimizers, datasets\n",
    "\n",
    "os.environ['TF_CPP_MIN_LOG_LEVEL'] = '2'  # or any {'0', '1', '2'}\n",
    "\n",
    "def mnist_dataset():\n",
    "    (x, y), (x_test, y_test) = datasets.mnist.load_data()\n",
    "    #normalize\n",
    "    x = x/255.0\n",
    "    x_test = x_test/255.0\n",
    "    \n",
    "    return (x, y), (x_test, y_test)"
   ]
  },
  {
   "cell_type": "code",
   "execution_count": 36,
   "metadata": {},
   "outputs": [
    {
     "name": "stdout",
     "output_type": "stream",
     "text": [
      "[(1, 'a'), (2, 'b'), (3, 'c'), (4, 'd')]\n"
     ]
    }
   ],
   "source": [
    "print(list(zip([1, 2, 3, 4], ['a', 'b', 'c', 'd'])))"
   ]
  },
  {
   "cell_type": "markdown",
   "metadata": {},
   "source": [
    "## 建立模型"
   ]
  },
  {
   "cell_type": "code",
   "execution_count": 39,
   "metadata": {},
   "outputs": [],
   "source": [
    "class myModel:\n",
    "    def __init__(self):\n",
    "        ####################\n",
    "        '''声明模型对应的参数'''\n",
    "        ####################\n",
    "        self.W1=tf.compat.v1.get_variable(shape=(784,1000),name=\"W1\",initializer=tf.compat.v1.random_normal_initializer)\n",
    "        self.b1=tf.compat.v1.get_variable(shape=(1,1000),name=\"b1\",initializer=tf.compat.v1.random_normal_initializer)\n",
    "        self.W2=tf.compat.v1.get_variable(shape=(1000,666),name=\"W2\",initializer=tf.compat.v1.random_normal_initializer)\n",
    "        self.b2=tf.compat.v1.get_variable(shape=(1,666),name=\"b2\",initializer=tf.compat.v1.random_normal_initializer)\n",
    "        \n",
    "    def __call__(self, x):\n",
    "        ####################\n",
    "        '''实现模型函数体，返回未归一化的logits'''\n",
    "        ####################\n",
    "        x=tf.reshape(x,(-1,784))\n",
    "        hidden = tf.nn.relu(tf.matmul(x,self.W1)+self.b1)\n",
    "        logits = tf.matmul(hidden,self.W2)+self.b2\n",
    "        return logits\n",
    "        \n",
    "model = myModel()\n",
    "\n",
    "optimizer = optimizers.Adam()"
   ]
  },
  {
   "cell_type": "markdown",
   "metadata": {},
   "source": [
    "## 计算 loss"
   ]
  },
  {
   "cell_type": "code",
   "execution_count": 42,
   "metadata": {},
   "outputs": [],
   "source": [
    "@tf.function\n",
    "def compute_loss(logits, labels):\n",
    "    return tf.reduce_mean(\n",
    "        tf.nn.sparse_softmax_cross_entropy_with_logits(\n",
    "            logits=logits, labels=labels))\n",
    "\n",
    "@tf.function\n",
    "def compute_accuracy(logits, labels):\n",
    "    predictions = tf.argmax(logits, axis=1)\n",
    "    return tf.reduce_mean(tf.cast(tf.equal(predictions, labels), tf.float32))\n",
    "\n",
    "@tf.function\n",
    "def train_one_step(model, optimizer, x, y):\n",
    "    with tf.GradientTape() as tape:\n",
    "        logits = model(x)\n",
    "        loss = compute_loss(logits, y)\n",
    "\n",
    "    # compute gradient\n",
    "    trainable_vars = [model.W1, model.W2, model.b1, model.b2]\n",
    "    grads = tape.gradient(loss, trainable_vars)\n",
    "    for g, v in zip(grads, trainable_vars):\n",
    "        v.assign_sub(0.01*g)\n",
    "\n",
    "    accuracy = compute_accuracy(logits, y)\n",
    "\n",
    "    # loss and accuracy is scalar tensor\n",
    "    return loss, accuracy\n",
    "\n",
    "@tf.function\n",
    "def test(model, x, y):\n",
    "    logits = model(x)\n",
    "    loss = compute_loss(logits, y)\n",
    "    accuracy = compute_accuracy(logits, y)\n",
    "    return loss, accuracy"
   ]
  },
  {
   "cell_type": "markdown",
   "metadata": {},
   "source": [
    "## 实际训练"
   ]
  },
  {
   "cell_type": "code",
   "execution_count": 47,
   "metadata": {},
   "outputs": [
    {
     "name": "stdout",
     "output_type": "stream",
     "text": [
      "epoch 0 : loss 169.8196 ; accuracy 0.15536667\n",
      "epoch 1 : loss 165.22043 ; accuracy 0.16343333\n",
      "epoch 2 : loss 160.81456 ; accuracy 0.17125\n",
      "epoch 3 : loss 156.5789 ; accuracy 0.1782\n",
      "epoch 4 : loss 152.50114 ; accuracy 0.18465\n",
      "epoch 5 : loss 148.58105 ; accuracy 0.1921\n",
      "epoch 6 : loss 144.80977 ; accuracy 0.19923334\n",
      "epoch 7 : loss 141.17763 ; accuracy 0.206\n",
      "epoch 8 : loss 137.68057 ; accuracy 0.21256667\n",
      "epoch 9 : loss 134.31212 ; accuracy 0.2189\n",
      "epoch 10 : loss 131.07133 ; accuracy 0.22416666\n",
      "epoch 11 : loss 127.960945 ; accuracy 0.23016667\n",
      "epoch 12 : loss 124.98151 ; accuracy 0.23576666\n",
      "epoch 13 : loss 122.12473 ; accuracy 0.24095\n",
      "epoch 14 : loss 119.3839 ; accuracy 0.24606666\n",
      "epoch 15 : loss 116.76195 ; accuracy 0.25138333\n",
      "epoch 16 : loss 114.2518 ; accuracy 0.25643334\n",
      "epoch 17 : loss 111.847176 ; accuracy 0.26108333\n",
      "epoch 18 : loss 109.537155 ; accuracy 0.26606667\n",
      "epoch 19 : loss 107.31125 ; accuracy 0.27026665\n",
      "epoch 20 : loss 105.16261 ; accuracy 0.27453333\n",
      "epoch 21 : loss 103.08731 ; accuracy 0.279\n",
      "epoch 22 : loss 101.08239 ; accuracy 0.28281668\n",
      "epoch 23 : loss 99.14087 ; accuracy 0.28666666\n",
      "epoch 24 : loss 97.26013 ; accuracy 0.29106668\n",
      "epoch 25 : loss 95.440674 ; accuracy 0.29478332\n",
      "epoch 26 : loss 93.68618 ; accuracy 0.29821667\n",
      "epoch 27 : loss 91.99662 ; accuracy 0.3017\n",
      "epoch 28 : loss 90.370735 ; accuracy 0.30475\n",
      "epoch 29 : loss 88.81185 ; accuracy 0.30841666\n",
      "epoch 30 : loss 87.31972 ; accuracy 0.31151667\n",
      "epoch 31 : loss 85.897 ; accuracy 0.31478333\n",
      "epoch 32 : loss 84.54006 ; accuracy 0.31823334\n",
      "epoch 33 : loss 83.24722 ; accuracy 0.32153332\n",
      "epoch 34 : loss 82.01742 ; accuracy 0.32481667\n",
      "epoch 35 : loss 80.848434 ; accuracy 0.32766667\n",
      "epoch 36 : loss 79.7354 ; accuracy 0.33055\n",
      "epoch 37 : loss 78.675705 ; accuracy 0.33373332\n",
      "epoch 38 : loss 77.66506 ; accuracy 0.33601665\n",
      "epoch 39 : loss 76.69485 ; accuracy 0.33851665\n",
      "epoch 40 : loss 75.7642 ; accuracy 0.34156665\n",
      "epoch 41 : loss 74.869286 ; accuracy 0.34431666\n",
      "epoch 42 : loss 74.00674 ; accuracy 0.34706667\n",
      "epoch 43 : loss 73.17354 ; accuracy 0.35016668\n",
      "epoch 44 : loss 72.368034 ; accuracy 0.35326666\n",
      "epoch 45 : loss 71.588326 ; accuracy 0.35601667\n",
      "epoch 46 : loss 70.83075 ; accuracy 0.35891667\n",
      "epoch 47 : loss 70.09305 ; accuracy 0.36195\n",
      "epoch 48 : loss 69.37421 ; accuracy 0.36423334\n",
      "epoch 49 : loss 68.67291 ; accuracy 0.36705\n",
      "test loss 65.79994 ; accuracy 0.3883\n"
     ]
    }
   ],
   "source": [
    "train_data, test_data = mnist_dataset()\n",
    "for epoch in range(50):\n",
    "    loss, accuracy = train_one_step(model, optimizer, \n",
    "                                    tf.constant(train_data[0], dtype=tf.float32), \n",
    "                                    tf.constant(train_data[1], dtype=tf.int64))\n",
    "    print('epoch', epoch, ': loss', loss.numpy(), '; accuracy', accuracy.numpy())\n",
    "loss, accuracy = test(model, \n",
    "                      tf.constant(test_data[0], dtype=tf.float32), \n",
    "                      tf.constant(test_data[1], dtype=tf.int64))\n",
    "\n",
    "print('test loss', loss.numpy(), '; accuracy', accuracy.numpy())"
   ]
  },
  {
   "cell_type": "code",
   "execution_count": null,
   "metadata": {},
   "outputs": [],
   "source": []
  },
  {
   "cell_type": "code",
   "execution_count": null,
   "metadata": {},
   "outputs": [],
   "source": []
  }
 ],
 "metadata": {
  "kernelspec": {
   "display_name": "Python 3 (ipykernel)",
   "language": "python",
   "name": "python3"
  },
  "language_info": {
   "codemirror_mode": {
    "name": "ipython",
    "version": 3
   },
   "file_extension": ".py",
   "mimetype": "text/x-python",
   "name": "python",
   "nbconvert_exporter": "python",
   "pygments_lexer": "ipython3",
   "version": "3.8.20"
  }
 },
 "nbformat": 4,
 "nbformat_minor": 4
}
